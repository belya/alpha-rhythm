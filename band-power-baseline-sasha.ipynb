{
 "cells": [
  {
   "cell_type": "code",
   "execution_count": 115,
   "metadata": {},
   "outputs": [],
   "source": [
    "import mne"
   ]
  },
  {
   "cell_type": "code",
   "execution_count": 254,
   "metadata": {},
   "outputs": [],
   "source": [
    "import pandas as pd"
   ]
  },
  {
   "cell_type": "code",
   "execution_count": 255,
   "metadata": {},
   "outputs": [],
   "source": [
    "import json"
   ]
  },
  {
   "cell_type": "code",
   "execution_count": 256,
   "metadata": {},
   "outputs": [],
   "source": [
    "# %matplotlib inline\n",
    "import matplotlib.pyplot as plt"
   ]
  },
  {
   "cell_type": "code",
   "execution_count": 257,
   "metadata": {},
   "outputs": [],
   "source": [
    "import numpy as np"
   ]
  },
  {
   "cell_type": "code",
   "execution_count": 258,
   "metadata": {},
   "outputs": [],
   "source": [
    "import matplotlib"
   ]
  },
  {
   "cell_type": "code",
   "execution_count": 259,
   "metadata": {},
   "outputs": [
    {
     "name": "stdout",
     "output_type": "stream",
     "text": [
      "The autoreload extension is already loaded. To reload it, use:\n",
      "  %reload_ext autoreload\n"
     ]
    }
   ],
   "source": [
    "%load_ext autoreload\n",
    "\n",
    "%autoreload 2\n",
    "import tools"
   ]
  },
  {
   "cell_type": "code",
   "execution_count": 260,
   "metadata": {},
   "outputs": [],
   "source": [
    "ch_names = [\"Fp1\", \"Fp2\", \"C3\", \"C4\", \"P7\", \"P8\", 'O1', 'O2']"
   ]
  },
  {
   "cell_type": "code",
   "execution_count": 261,
   "metadata": {},
   "outputs": [],
   "source": [
    "sampling_freq = 256\n",
    "n_channels = len(ch_names)\n",
    "ch_types = [\"eeg\"] * n_channels"
   ]
  },
  {
   "cell_type": "code",
   "execution_count": 262,
   "metadata": {},
   "outputs": [],
   "source": [
    "baseline_name = f\"/home/anatoli/Документы/skywind/eeg-playground/sasha-data/eeg/sasha-baseline.txt\""
   ]
  },
  {
   "cell_type": "code",
   "execution_count": 263,
   "metadata": {},
   "outputs": [
    {
     "name": "stderr",
     "output_type": "stream",
     "text": [
      "/home/anatoli/Документы/skywind/eeg-playground/tools.py:8: ParserWarning: Falling back to the 'python' engine because the 'c' engine does not support regex separators (separators > 1 char and different from '\\s+' are interpreted as regex); you can avoid this warning by specifying engine='python'.\n",
      "  sep=\", \", skiprows=6, names=[\"#\"] + ch_names + [\"x\", \"y\", \"z\", \"time\", \"timestamp\"]\n"
     ]
    },
    {
     "name": "stdout",
     "output_type": "stream",
     "text": [
      "Creating RawArray with float64 data, n_channels=8, n_times=23882\n",
      "    Range : 0 ... 23881 =      0.000 ...    93.285 secs\n",
      "Ready.\n",
      "Setting up band-stop filter from 48 - 52 Hz\n",
      "\n",
      "FIR filter parameters\n",
      "---------------------\n",
      "Designing a one-pass, zero-phase, non-causal bandstop filter:\n",
      "- Windowed time-domain design (firwin) method\n",
      "- Hamming window with 0.0194 passband ripple and 53 dB stopband attenuation\n",
      "- Lower passband edge: 48.00\n",
      "- Lower transition bandwidth: 0.50 Hz (-6 dB cutoff frequency: 47.75 Hz)\n",
      "- Upper passband edge: 52.00 Hz\n",
      "- Upper transition bandwidth: 0.50 Hz (-6 dB cutoff frequency: 52.25 Hz)\n",
      "- Filter length: 1691 samples (6.605 sec)\n",
      "\n",
      "Filtering raw data in 1 contiguous segment\n",
      "Setting up band-pass filter from 1 - 50 Hz\n",
      "\n",
      "FIR filter parameters\n",
      "---------------------\n",
      "Designing a one-pass, zero-phase, non-causal bandpass filter:\n",
      "- Windowed time-domain design (firwin) method\n",
      "- Hamming window with 0.0194 passband ripple and 53 dB stopband attenuation\n",
      "- Lower passband edge: 1.00\n",
      "- Lower transition bandwidth: 1.00 Hz (-6 dB cutoff frequency: 0.50 Hz)\n",
      "- Upper passband edge: 50.00 Hz\n",
      "- Upper transition bandwidth: 12.50 Hz (-6 dB cutoff frequency: 56.25 Hz)\n",
      "- Filter length: 845 samples (3.301 sec)\n",
      "\n"
     ]
    }
   ],
   "source": [
    "baseline_raw = tools.read_signal(\n",
    "    baseline_name, \n",
    "    ch_names=ch_names, \n",
    "    ch_types=ch_types, \n",
    "    sampling_freq=sampling_freq\n",
    ")"
   ]
  },
  {
   "cell_type": "code",
   "execution_count": 264,
   "metadata": {},
   "outputs": [
    {
     "data": {
      "text/plain": [
       "<Info | 8 non-empty values\n",
       " bads: []\n",
       " ch_names: Fp1, Fp2, C3, C4, P7, P8, O1, O2\n",
       " chs: 8 EEG\n",
       " custom_ref_applied: False\n",
       " dig: 11 items (3 Cardinal, 8 EEG)\n",
       " highpass: 1.0 Hz\n",
       " lowpass: 50.0 Hz\n",
       " meas_date: unspecified\n",
       " nchan: 8\n",
       " projs: []\n",
       " sfreq: 256.0 Hz\n",
       ">"
      ]
     },
     "execution_count": 264,
     "metadata": {},
     "output_type": "execute_result"
    }
   ],
   "source": [
    "baseline_raw.info"
   ]
  },
  {
   "cell_type": "code",
   "execution_count": 265,
   "metadata": {},
   "outputs": [
    {
     "name": "stdout",
     "output_type": "stream",
     "text": [
      "Using matplotlib backend: Qt5Agg\n"
     ]
    }
   ],
   "source": [
    "%matplotlib"
   ]
  },
  {
   "cell_type": "code",
   "execution_count": 353,
   "metadata": {},
   "outputs": [
    {
     "name": "stdout",
     "output_type": "stream",
     "text": [
      "Filtering raw data in 1 contiguous segment\n",
      "Setting up band-pass filter from 5 - 50 Hz\n",
      "\n",
      "FIR filter parameters\n",
      "---------------------\n",
      "Designing a one-pass, zero-phase, non-causal bandpass filter:\n",
      "- Windowed time-domain design (firwin) method\n",
      "- Hamming window with 0.0194 passband ripple and 53 dB stopband attenuation\n",
      "- Lower passband edge: 5.00\n",
      "- Lower transition bandwidth: 2.00 Hz (-6 dB cutoff frequency: 4.00 Hz)\n",
      "- Upper passband edge: 50.00 Hz\n",
      "- Upper transition bandwidth: 12.50 Hz (-6 dB cutoff frequency: 56.25 Hz)\n",
      "- Filter length: 423 samples (1.652 sec)\n",
      "\n"
     ]
    }
   ],
   "source": [
    "tools.plot_frequencies(baseline_raw, frequencies=(5, 50), start=0, duration=20)"
   ]
  },
  {
   "cell_type": "markdown",
   "metadata": {},
   "source": [
    "# Фильтрация"
   ]
  },
  {
   "cell_type": "code",
   "execution_count": 354,
   "metadata": {},
   "outputs": [],
   "source": [
    "# time_stats = (75, 30)\n",
    "time_stats = (14, 86)"
   ]
  },
  {
   "cell_type": "code",
   "execution_count": 381,
   "metadata": {},
   "outputs": [],
   "source": [
    "ica = mne.preprocessing.ICA()"
   ]
  },
  {
   "cell_type": "code",
   "execution_count": 382,
   "metadata": {},
   "outputs": [],
   "source": [
    "raw_part = baseline_raw.copy().pick([\"Fp1\", \"Fp2\", \"O1\", \"O2\"]).crop(tmin=time_stats[0], tmax=time_stats[1])"
   ]
  },
  {
   "cell_type": "code",
   "execution_count": 386,
   "metadata": {},
   "outputs": [
    {
     "name": "stdout",
     "output_type": "stream",
     "text": [
      "Filtering raw data in 1 contiguous segment\n",
      "Setting up band-pass filter from 5 - 50 Hz\n",
      "\n",
      "FIR filter parameters\n",
      "---------------------\n",
      "Designing a one-pass, zero-phase, non-causal bandpass filter:\n",
      "- Windowed time-domain design (firwin) method\n",
      "- Hamming window with 0.0194 passband ripple and 53 dB stopband attenuation\n",
      "- Lower passband edge: 5.00\n",
      "- Lower transition bandwidth: 2.00 Hz (-6 dB cutoff frequency: 4.00 Hz)\n",
      "- Upper passband edge: 50.00 Hz\n",
      "- Upper transition bandwidth: 12.50 Hz (-6 dB cutoff frequency: 56.25 Hz)\n",
      "- Filter length: 423 samples (1.652 sec)\n",
      "\n"
     ]
    }
   ],
   "source": [
    "tools.plot_frequencies(raw_part, frequencies=(5, 50), start=0, duration=20)"
   ]
  },
  {
   "cell_type": "code",
   "execution_count": 387,
   "metadata": {
    "scrolled": true
   },
   "outputs": [
    {
     "name": "stdout",
     "output_type": "stream",
     "text": [
      "Fitting ICA to data using 4 channels (please be patient, this may take a while)\n",
      "Selecting all PCA components: 4 components\n",
      "Fitting ICA took 0.2s.\n"
     ]
    },
    {
     "data": {
      "text/plain": [
       "<ICA | raw data decomposition, fit (fastica): 18433 samples, 4 components, channels used: \"eeg\">"
      ]
     },
     "execution_count": 387,
     "metadata": {},
     "output_type": "execute_result"
    }
   ],
   "source": [
    "ica.fit(raw_part.copy())"
   ]
  },
  {
   "cell_type": "code",
   "execution_count": 388,
   "metadata": {},
   "outputs": [],
   "source": [
    "ica_eeg = ica.get_sources(raw_part)"
   ]
  },
  {
   "cell_type": "code",
   "execution_count": 389,
   "metadata": {},
   "outputs": [],
   "source": [
    "_ = mne.viz.plot_raw(\n",
    "    ica_eeg,\n",
    "    duration=30, \n",
    "    start=0, \n",
    "    scalings=5,\n",
    "    show=True\n",
    ")"
   ]
  },
  {
   "cell_type": "code",
   "execution_count": 390,
   "metadata": {},
   "outputs": [
    {
     "name": "stdout",
     "output_type": "stream",
     "text": [
      "Transforming to ICA space (4 components)\n",
      "Zeroing out 1 ICA component\n"
     ]
    }
   ],
   "source": [
    "transformed_raw = ica.apply(raw_part.copy(), exclude=[1])"
   ]
  },
  {
   "cell_type": "code",
   "execution_count": 391,
   "metadata": {
    "scrolled": true
   },
   "outputs": [
    {
     "name": "stdout",
     "output_type": "stream",
     "text": [
      "Filtering raw data in 1 contiguous segment\n",
      "Setting up band-pass filter from 5 - 50 Hz\n",
      "\n",
      "FIR filter parameters\n",
      "---------------------\n",
      "Designing a one-pass, zero-phase, non-causal bandpass filter:\n",
      "- Windowed time-domain design (firwin) method\n",
      "- Hamming window with 0.0194 passband ripple and 53 dB stopband attenuation\n",
      "- Lower passband edge: 5.00\n",
      "- Lower transition bandwidth: 2.00 Hz (-6 dB cutoff frequency: 4.00 Hz)\n",
      "- Upper passband edge: 50.00 Hz\n",
      "- Upper transition bandwidth: 12.50 Hz (-6 dB cutoff frequency: 56.25 Hz)\n",
      "- Filter length: 423 samples (1.652 sec)\n",
      "\n"
     ]
    }
   ],
   "source": [
    "tools.plot_frequencies(transformed_raw, frequencies=(5, 50), start=0, duration=20)"
   ]
  },
  {
   "cell_type": "markdown",
   "metadata": {},
   "source": [
    "# Извлечение амплитуды"
   ]
  },
  {
   "cell_type": "code",
   "execution_count": 522,
   "metadata": {},
   "outputs": [
    {
     "name": "stdout",
     "output_type": "stream",
     "text": [
      "Filtering raw data in 1 contiguous segment\n",
      "Setting up band-pass filter from 7 - 13 Hz\n",
      "\n",
      "FIR filter parameters\n",
      "---------------------\n",
      "Designing a one-pass, zero-phase, non-causal bandpass filter:\n",
      "- Windowed time-domain design (firwin) method\n",
      "- Hamming window with 0.0194 passband ripple and 53 dB stopband attenuation\n",
      "- Lower passband edge: 7.00\n",
      "- Lower transition bandwidth: 2.00 Hz (-6 dB cutoff frequency: 6.00 Hz)\n",
      "- Upper passband edge: 13.00 Hz\n",
      "- Upper transition bandwidth: 3.25 Hz (-6 dB cutoff frequency: 14.62 Hz)\n",
      "- Filter length: 423 samples (1.652 sec)\n",
      "\n",
      "Creating RawArray with float64 data, n_channels=5, n_times=18433\n",
      "    Range : 0 ... 18432 =      0.000 ...    72.000 secs\n",
      "Ready.\n"
     ]
    }
   ],
   "source": [
    "raw_alpha = tools.get_alpha_amplitude(transformed_raw, sampling_freq=sampling_freq, channels=[\"O1\", \"O2\"])#.crop(tmin=time_stats[0], tmax=time_stats[1])"
   ]
  },
  {
   "cell_type": "code",
   "execution_count": 524,
   "metadata": {},
   "outputs": [],
   "source": [
    "_ = mne.viz.plot_raw(\n",
    "    raw_alpha,\n",
    "    events_detected,\n",
    "    duration=100, \n",
    "    start=0, \n",
    "    scalings={'eeg': 50, 'misc': 3},\n",
    "    show=True\n",
    ")"
   ]
  },
  {
   "cell_type": "code",
   "execution_count": 539,
   "metadata": {},
   "outputs": [
    {
     "name": "stdout",
     "output_type": "stream",
     "text": [
      "Trigger channel has a non-zero initial value of 1 (consider using initial_event=True to detect this event)\n",
      "Removing orphaned offset at the beginning of the file.\n",
      "7 events found\n",
      "Event IDs: [1 2]\n"
     ]
    }
   ],
   "source": [
    "events_detected = mne.find_events(raw_alpha, initial_event=False)"
   ]
  },
  {
   "cell_type": "code",
   "execution_count": 543,
   "metadata": {},
   "outputs": [
    {
     "name": "stdout",
     "output_type": "stream",
     "text": [
      "Not setting metadata\n",
      "Not setting metadata\n",
      "7 matching events found\n",
      "No baseline correction applied\n",
      "0 projection items activated\n",
      "Loading data for 7 events and 1281 original time points ...\n",
      "1 bad epochs dropped\n"
     ]
    }
   ],
   "source": [
    "epochs = mne.Epochs(\n",
    "    raw_alpha, \n",
    "    events_detected,\n",
    "    event_id={'open': 1, 'close': 2},\n",
    "    picks=[\"amplitude\"],\n",
    "    baseline=None,\n",
    "    tmin=0,\n",
    "    tmax=5,\n",
    "    preload=True, \n",
    "    reject_by_annotation=False\n",
    ").pick([\"amplitude\"])"
   ]
  },
  {
   "cell_type": "code",
   "execution_count": 544,
   "metadata": {
    "scrolled": true
   },
   "outputs": [
    {
     "data": {
      "image/png": "[encoded data removed]",
      "text/plain": [
       "<Figure size 640x300 with 1 Axes>"
      ]
     },
     "execution_count": 544,
     "metadata": {},
     "output_type": "execute_result"
    }
   ],
   "source": [
    "epochs[\"open\"].average(picks=[\"amplitude\"]).plot()"
   ]
  },
  {
   "cell_type": "code",
   "execution_count": 545,
   "metadata": {},
   "outputs": [
    {
     "data": {
      "image/png": "[encoded data removed]",
      "text/plain": [
       "<Figure size 640x300 with 1 Axes>"
      ]
     },
     "execution_count": 545,
     "metadata": {},
     "output_type": "execute_result"
    }
   ],
   "source": [
    "epochs[\"close\"].average(picks=[\"amplitude\"]).plot()"
   ]
  }
 ],
 "metadata": {
  "kernelspec": {
   "display_name": "Python 3",
   "language": "python",
   "name": "python3"
  },
  "language_info": {
   "codemirror_mode": {
    "name": "ipython",
    "version": 3
   },
   "file_extension": ".py",
   "mimetype": "text/x-python",
   "name": "python",
   "nbconvert_exporter": "python",
   "pygments_lexer": "ipython3",
   "version": "3.7.3"
  }
 },
 "nbformat": 4,
 "nbformat_minor": 4
}
